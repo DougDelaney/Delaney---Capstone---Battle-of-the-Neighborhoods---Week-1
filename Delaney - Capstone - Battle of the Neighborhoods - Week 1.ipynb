{
 "cells": [
  {
   "cell_type": "markdown",
   "metadata": {
    "collapsed": true
   },
   "source": [
    "# <div align=\"center\">**The Battle of the Neighborhoods - Week 1 - Pizza in Toronto**</div>"
   ]
  },
  {
   "cell_type": "markdown",
   "metadata": {},
   "source": [
    "### Introduction & Business Problem :"
   ]
  },
  {
   "cell_type": "markdown",
   "metadata": {},
   "source": [
    "###  Problem Background:"
   ]
  },
  {
   "cell_type": "markdown",
   "metadata": {},
   "source": [
    "The City of Toronto is being investivagted to see if it is feasible to open a pizza place. It is diverse and hosts visitors. It is multicultural. It provides lot of business oppourtunities and this project seeks to investigate the possibility of openning a pizzaria. With the hope of attracticting locals and tourists alike, so location is everything.\n",
    "\n",
    "This will investigate the competitiveness of the market. As it is highly developed city so cost of doing business is also one of the factors.\n",
    "Thus, any new business venture or expansion needs to be analysed carefully. The insights derived from analysis will give a good understanding \n",
    "of the business environment to help target the market, reduce risk, and ensure the return on Investment will be reasonable."
   ]
  },
  {
   "cell_type": "markdown",
   "metadata": {},
   "source": [
    "###  Problem Description and Data Plan:"
   ]
  },
  {
   "cell_type": "markdown",
   "metadata": {},
   "source": [
    "A restaurant is a business which prepares and serves food and drink to customers for money, either before or after the meal. The City of Toronto is diverse and one of my favorite locations.<Br> \n",
    "1. Can Toronto support a new pizzaria?<Br> \n",
    "2. Can a location be found that is nearly ideal to serve locals and tourists?<Br>\n",
    "3. What other kinds of cuisines are available for consumer choices?<Br>\n",
    "4. Is there a \"Toronto\" style pizza? Or can we create one?<Br>\n",
    "\n",
    "To survive in such a market it is very important to startegically plan and gather data. Various factors need to be analyzed in order to decide on the Location such as : <Br>\n",
    "1. Population <Br>\n",
    "2. Demographics <Br>\n",
    "2. Are there local markets nearby so that the ingredients can be purchased fresh to maintain quality and cost?<Br>\n",
    "3. Are there any venues nearby where foor traffic is high etc <Br>\n",
    "4. Who are the competitors in that location? <Br>\n",
    "5. Pizzas served / Menu of the competitors <Br>\n",
    "6. Segmentation of the boroughs/neighborhoods <Br>\n",
    "7. Untapped markets <Br>\n",
    "8. Saturated markets<Br>\n",
    "    \n",
    "Toronto Style Pizzaria LLC. needs to choose the correct location to start its first venture.  Location is everything."
   ]
  },
  {
   "cell_type": "markdown",
   "metadata": {},
   "source": [
    "### Target Audience:"
   ]
  },
  {
   "cell_type": "markdown",
   "metadata": {},
   "source": [
    "To recommend the correct location, Toronto Style Pizzaria LLC. is my hope and I will lead of the Data Science investigation. The objective is to locate and select which neighborhood of Toronto will be best choice to start a restaurant, along with the rationale.\n",
    "\n",
    "This may interest anyone who wants to start a new restaurant in Toronto."
   ]
  },
  {
   "cell_type": "markdown",
   "metadata": {},
   "source": [
    "###  Success Criteria:"
   ]
  },
  {
   "cell_type": "markdown",
   "metadata": {},
   "source": [
    "The success criteria of the project will be a good recommendation of borough/Neighborhood choice for the Toronto Style Pizzaria LLC. based on lack of Pizzarias in that location and nearest supplies of ingredients."
   ]
  }
 ],
 "metadata": {
  "kernelspec": {
   "display_name": "Python 3",
   "language": "python",
   "name": "python3"
  },
  "language_info": {
   "codemirror_mode": {
    "name": "ipython",
    "version": 3
   },
   "file_extension": ".py",
   "mimetype": "text/x-python",
   "name": "python",
   "nbconvert_exporter": "python",
   "pygments_lexer": "ipython3",
   "version": "3.8.5"
  }
 },
 "nbformat": 4,
 "nbformat_minor": 1
}
